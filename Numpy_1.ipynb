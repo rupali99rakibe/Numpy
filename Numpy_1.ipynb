{
 "cells": [
  {
   "cell_type": "code",
   "execution_count": 1,
   "id": "03bb6a10",
   "metadata": {},
   "outputs": [],
   "source": [
    "import numpy as np"
   ]
  },
  {
   "cell_type": "code",
   "execution_count": 3,
   "id": "16215120",
   "metadata": {},
   "outputs": [
    {
     "data": {
      "text/plain": [
       "array([1, 2, 3, 4, 5, 6, 7, 8])"
      ]
     },
     "execution_count": 3,
     "metadata": {},
     "output_type": "execute_result"
    }
   ],
   "source": [
    "a =np.arange(1,9)\n",
    "a"
   ]
  },
  {
   "cell_type": "code",
   "execution_count": 7,
   "id": "76ec3c86",
   "metadata": {},
   "outputs": [
    {
     "data": {
      "text/plain": [
       "array([[1, 2, 3],\n",
       "       [4, 5, 6],\n",
       "       [7, 8, 9]])"
      ]
     },
     "execution_count": 7,
     "metadata": {},
     "output_type": "execute_result"
    }
   ],
   "source": [
    "a1 = np.arange(1,10).reshape(3,3)\n",
    "a1"
   ]
  },
  {
   "cell_type": "code",
   "execution_count": 9,
   "id": "8c5d4c6d",
   "metadata": {},
   "outputs": [
    {
     "data": {
      "text/plain": [
       "1"
      ]
     },
     "execution_count": 9,
     "metadata": {},
     "output_type": "execute_result"
    }
   ],
   "source": [
    "np.min(a1)"
   ]
  },
  {
   "cell_type": "code",
   "execution_count": 11,
   "id": "4cd05c83",
   "metadata": {},
   "outputs": [
    {
     "data": {
      "text/plain": [
       "9"
      ]
     },
     "execution_count": 11,
     "metadata": {},
     "output_type": "execute_result"
    }
   ],
   "source": [
    "np.max(a1)"
   ]
  },
  {
   "cell_type": "code",
   "execution_count": 13,
   "id": "ca289a54",
   "metadata": {},
   "outputs": [
    {
     "data": {
      "text/plain": [
       "[array([1, 2, 3, 4, 5, 6, 7, 8])]"
      ]
     },
     "execution_count": 13,
     "metadata": {},
     "output_type": "execute_result"
    }
   ],
   "source": [
    "np.split(a,1)"
   ]
  },
  {
   "cell_type": "code",
   "execution_count": 16,
   "id": "9ada5635",
   "metadata": {},
   "outputs": [
    {
     "data": {
      "text/plain": [
       "[array([1, 2, 3, 4, 5, 6, 7, 8, 9])]"
      ]
     },
     "execution_count": 16,
     "metadata": {},
     "output_type": "execute_result"
    }
   ],
   "source": [
    "r = np.arange(1,10)\n",
    "np.split(r,1)"
   ]
  },
  {
   "cell_type": "code",
   "execution_count": 18,
   "id": "c9a46e4f",
   "metadata": {},
   "outputs": [
    {
     "data": {
      "text/plain": [
       "[array([1, 2, 3, 4]), array([5, 6, 7, 8])]"
      ]
     },
     "execution_count": 18,
     "metadata": {},
     "output_type": "execute_result"
    }
   ],
   "source": [
    "np.split(a,2)"
   ]
  },
  {
   "cell_type": "code",
   "execution_count": 21,
   "id": "1a87e781",
   "metadata": {},
   "outputs": [
    {
     "data": {
      "text/plain": [
       "[array([1, 2]), array([], dtype=int32), array([3, 4, 5, 6, 7, 8])]"
      ]
     },
     "execution_count": 21,
     "metadata": {},
     "output_type": "execute_result"
    }
   ],
   "source": [
    "np.split(a,(2,2))"
   ]
  },
  {
   "cell_type": "code",
   "execution_count": 22,
   "id": "b0cf1d94",
   "metadata": {},
   "outputs": [
    {
     "data": {
      "text/plain": [
       "[array([1, 2, 3, 4]), array([], dtype=int32), array([3, 4, 5, 6, 7, 8])]"
      ]
     },
     "execution_count": 22,
     "metadata": {},
     "output_type": "execute_result"
    }
   ],
   "source": [
    "np.split(a,(4,2))"
   ]
  },
  {
   "cell_type": "code",
   "execution_count": 23,
   "id": "72ac5bc5",
   "metadata": {},
   "outputs": [
    {
     "data": {
      "text/plain": [
       "[array([1, 2]), array([3, 4]), array([5, 6, 7, 8])]"
      ]
     },
     "execution_count": 23,
     "metadata": {},
     "output_type": "execute_result"
    }
   ],
   "source": [
    "np.split(a,(2,4))"
   ]
  },
  {
   "cell_type": "code",
   "execution_count": 26,
   "id": "3223ea67",
   "metadata": {},
   "outputs": [],
   "source": [
    "a = np.arange(1,10).reshape(3,3)\n",
    "a1 = np.arange(11,20).reshape(3,3)"
   ]
  },
  {
   "cell_type": "code",
   "execution_count": 27,
   "id": "768e13fa",
   "metadata": {},
   "outputs": [
    {
     "data": {
      "text/plain": [
       "array([[1, 2, 3],\n",
       "       [4, 5, 6],\n",
       "       [7, 8, 9]])"
      ]
     },
     "execution_count": 27,
     "metadata": {},
     "output_type": "execute_result"
    }
   ],
   "source": [
    "a"
   ]
  },
  {
   "cell_type": "code",
   "execution_count": 28,
   "id": "f9d8e6f8",
   "metadata": {},
   "outputs": [
    {
     "data": {
      "text/plain": [
       "array([[11, 12, 13],\n",
       "       [14, 15, 16],\n",
       "       [17, 18, 19]])"
      ]
     },
     "execution_count": 28,
     "metadata": {},
     "output_type": "execute_result"
    }
   ],
   "source": [
    "a1"
   ]
  },
  {
   "cell_type": "code",
   "execution_count": 29,
   "id": "98734cd4",
   "metadata": {},
   "outputs": [
    {
     "data": {
      "text/plain": [
       "array([[12, 14, 16],\n",
       "       [18, 20, 22],\n",
       "       [24, 26, 28]])"
      ]
     },
     "execution_count": 29,
     "metadata": {},
     "output_type": "execute_result"
    }
   ],
   "source": [
    "np.add(a,a1)"
   ]
  },
  {
   "cell_type": "code",
   "execution_count": 31,
   "id": "7ee38c19",
   "metadata": {},
   "outputs": [
    {
     "data": {
      "text/plain": [
       "array([[10, 10, 10],\n",
       "       [10, 10, 10],\n",
       "       [10, 10, 10]])"
      ]
     },
     "execution_count": 31,
     "metadata": {},
     "output_type": "execute_result"
    }
   ],
   "source": [
    "np.subtract(a1,a)"
   ]
  },
  {
   "cell_type": "code",
   "execution_count": 32,
   "id": "a90e2fe7",
   "metadata": {},
   "outputs": [
    {
     "data": {
      "text/plain": [
       "array([[ 11,  24,  39],\n",
       "       [ 56,  75,  96],\n",
       "       [119, 144, 171]])"
      ]
     },
     "execution_count": 32,
     "metadata": {},
     "output_type": "execute_result"
    }
   ],
   "source": [
    "np.multiply(a1,a)"
   ]
  },
  {
   "cell_type": "code",
   "execution_count": 33,
   "id": "83d67315",
   "metadata": {},
   "outputs": [
    {
     "data": {
      "text/plain": [
       "array([[0.09090909, 0.16666667, 0.23076923],\n",
       "       [0.28571429, 0.33333333, 0.375     ],\n",
       "       [0.41176471, 0.44444444, 0.47368421]])"
      ]
     },
     "execution_count": 33,
     "metadata": {},
     "output_type": "execute_result"
    }
   ],
   "source": [
    "np.divide(a,a1)"
   ]
  },
  {
   "cell_type": "code",
   "execution_count": 34,
   "id": "8601da2d",
   "metadata": {},
   "outputs": [
    {
     "data": {
      "text/plain": [
       "1"
      ]
     },
     "execution_count": 34,
     "metadata": {},
     "output_type": "execute_result"
    }
   ],
   "source": [
    "np.min(a)"
   ]
  },
  {
   "cell_type": "code",
   "execution_count": 35,
   "id": "a45f8a28",
   "metadata": {},
   "outputs": [
    {
     "data": {
      "text/plain": [
       "11"
      ]
     },
     "execution_count": 35,
     "metadata": {},
     "output_type": "execute_result"
    }
   ],
   "source": [
    "np.min(a1)"
   ]
  },
  {
   "cell_type": "code",
   "execution_count": 36,
   "id": "a7d544b1",
   "metadata": {},
   "outputs": [
    {
     "data": {
      "text/plain": [
       "19"
      ]
     },
     "execution_count": 36,
     "metadata": {},
     "output_type": "execute_result"
    }
   ],
   "source": [
    "np.max(a1)"
   ]
  },
  {
   "cell_type": "code",
   "execution_count": 37,
   "id": "d2f5b37b",
   "metadata": {},
   "outputs": [
    {
     "data": {
      "text/plain": [
       "9"
      ]
     },
     "execution_count": 37,
     "metadata": {},
     "output_type": "execute_result"
    }
   ],
   "source": [
    "np.max(a)"
   ]
  },
  {
   "cell_type": "code",
   "execution_count": 39,
   "id": "1de23712",
   "metadata": {},
   "outputs": [
    {
     "data": {
      "text/plain": [
       "(3, 3)"
      ]
     },
     "execution_count": 39,
     "metadata": {},
     "output_type": "execute_result"
    }
   ],
   "source": [
    "np.shape(a)"
   ]
  },
  {
   "cell_type": "code",
   "execution_count": 40,
   "id": "0469217e",
   "metadata": {},
   "outputs": [
    {
     "data": {
      "text/plain": [
       "(3, 3)"
      ]
     },
     "execution_count": 40,
     "metadata": {},
     "output_type": "execute_result"
    }
   ],
   "source": [
    "np.shape(a1)"
   ]
  },
  {
   "cell_type": "code",
   "execution_count": 41,
   "id": "73fa6a36",
   "metadata": {},
   "outputs": [
    {
     "data": {
      "text/plain": [
       "array([[ 1,  2,  3],\n",
       "       [ 4,  5,  6],\n",
       "       [ 7,  8,  9],\n",
       "       [11, 12, 13],\n",
       "       [14, 15, 16],\n",
       "       [17, 18, 19]])"
      ]
     },
     "execution_count": 41,
     "metadata": {},
     "output_type": "execute_result"
    }
   ],
   "source": [
    "np.concatenate((a,a1))"
   ]
  },
  {
   "cell_type": "code",
   "execution_count": 42,
   "id": "0303b487",
   "metadata": {},
   "outputs": [
    {
     "data": {
      "text/plain": [
       "array([[ 1,  2,  3, 11, 12, 13],\n",
       "       [ 4,  5,  6, 14, 15, 16],\n",
       "       [ 7,  8,  9, 17, 18, 19]])"
      ]
     },
     "execution_count": 42,
     "metadata": {},
     "output_type": "execute_result"
    }
   ],
   "source": [
    "np.concatenate((a,a1),axis=1)"
   ]
  },
  {
   "cell_type": "code",
   "execution_count": 44,
   "id": "74584660",
   "metadata": {},
   "outputs": [
    {
     "data": {
      "text/plain": [
       "array([[ 1,  2,  3],\n",
       "       [ 4,  5,  6],\n",
       "       [ 7,  8,  9],\n",
       "       [11, 12, 13],\n",
       "       [14, 15, 16],\n",
       "       [17, 18, 19]])"
      ]
     },
     "execution_count": 44,
     "metadata": {},
     "output_type": "execute_result"
    }
   ],
   "source": [
    "np.vstack((a,a1))"
   ]
  },
  {
   "cell_type": "code",
   "execution_count": 45,
   "id": "87dc603f",
   "metadata": {},
   "outputs": [
    {
     "data": {
      "text/plain": [
       "array([[ 1,  2,  3, 11, 12, 13],\n",
       "       [ 4,  5,  6, 14, 15, 16],\n",
       "       [ 7,  8,  9, 17, 18, 19]])"
      ]
     },
     "execution_count": 45,
     "metadata": {},
     "output_type": "execute_result"
    }
   ],
   "source": [
    "np.hstack((a,a1))"
   ]
  },
  {
   "cell_type": "code",
   "execution_count": 46,
   "id": "0fb92cd0",
   "metadata": {},
   "outputs": [
    {
     "data": {
      "text/plain": [
       "array([[ 1,  4,  9],\n",
       "       [16, 25, 36],\n",
       "       [49, 64, 81]], dtype=int32)"
      ]
     },
     "execution_count": 46,
     "metadata": {},
     "output_type": "execute_result"
    }
   ],
   "source": [
    "np.square(a)"
   ]
  },
  {
   "cell_type": "code",
   "execution_count": 49,
   "id": "6783b397",
   "metadata": {},
   "outputs": [
    {
     "data": {
      "text/plain": [
       "array([1, 2, 3, 4, 5, 6, 7, 8, 9])"
      ]
     },
     "execution_count": 49,
     "metadata": {},
     "output_type": "execute_result"
    }
   ],
   "source": [
    "np.ravel(a)"
   ]
  },
  {
   "cell_type": "code",
   "execution_count": 50,
   "id": "951cab9c",
   "metadata": {},
   "outputs": [
    {
     "data": {
      "text/plain": [
       "5.0"
      ]
     },
     "execution_count": 50,
     "metadata": {},
     "output_type": "execute_result"
    }
   ],
   "source": [
    "np.median(a)"
   ]
  },
  {
   "cell_type": "code",
   "execution_count": 51,
   "id": "2f25736a",
   "metadata": {},
   "outputs": [],
   "source": [
    "a = np.arange(1,10).reshape(3,3)\n",
    "a1 = np.arange(11,20).reshape(3,3)"
   ]
  },
  {
   "cell_type": "code",
   "execution_count": 52,
   "id": "679f42cf",
   "metadata": {},
   "outputs": [
    {
     "data": {
      "text/plain": [
       "array([[1, 2, 3],\n",
       "       [4, 5, 6],\n",
       "       [7, 8, 9]])"
      ]
     },
     "execution_count": 52,
     "metadata": {},
     "output_type": "execute_result"
    }
   ],
   "source": [
    "a"
   ]
  },
  {
   "cell_type": "code",
   "execution_count": 53,
   "id": "f8f7dae3",
   "metadata": {},
   "outputs": [
    {
     "data": {
      "text/plain": [
       "array([[11, 12, 13],\n",
       "       [14, 15, 16],\n",
       "       [17, 18, 19]])"
      ]
     },
     "execution_count": 53,
     "metadata": {},
     "output_type": "execute_result"
    }
   ],
   "source": [
    "a1"
   ]
  },
  {
   "cell_type": "code",
   "execution_count": 54,
   "id": "23373085",
   "metadata": {},
   "outputs": [
    {
     "data": {
      "text/plain": [
       "15.0"
      ]
     },
     "execution_count": 54,
     "metadata": {},
     "output_type": "execute_result"
    }
   ],
   "source": [
    "np.median(a1)"
   ]
  },
  {
   "cell_type": "code",
   "execution_count": 55,
   "id": "335d760f",
   "metadata": {},
   "outputs": [
    {
     "data": {
      "text/plain": [
       "5.0"
      ]
     },
     "execution_count": 55,
     "metadata": {},
     "output_type": "execute_result"
    }
   ],
   "source": [
    "np.mean(a)"
   ]
  },
  {
   "cell_type": "code",
   "execution_count": 56,
   "id": "4d008041",
   "metadata": {},
   "outputs": [
    {
     "data": {
      "text/plain": [
       "15.0"
      ]
     },
     "execution_count": 56,
     "metadata": {},
     "output_type": "execute_result"
    }
   ],
   "source": [
    "np.mean(a1)"
   ]
  },
  {
   "cell_type": "code",
   "execution_count": 58,
   "id": "7f1e54b8",
   "metadata": {},
   "outputs": [
    {
     "data": {
      "text/plain": [
       "9"
      ]
     },
     "execution_count": 58,
     "metadata": {},
     "output_type": "execute_result"
    }
   ],
   "source": [
    "np.max(a)"
   ]
  },
  {
   "cell_type": "code",
   "execution_count": 60,
   "id": "2e19fa04",
   "metadata": {},
   "outputs": [
    {
     "data": {
      "text/plain": [
       "array([[  1,   2,   3,   4,   5,   6,   7,   8,   9,  10],\n",
       "       [ 11,  12,  13,  14,  15,  16,  17,  18,  19,  20],\n",
       "       [ 21,  22,  23,  24,  25,  26,  27,  28,  29,  30],\n",
       "       [ 31,  32,  33,  34,  35,  36,  37,  38,  39,  40],\n",
       "       [ 41,  42,  43,  44,  45,  46,  47,  48,  49,  50],\n",
       "       [ 51,  52,  53,  54,  55,  56,  57,  58,  59,  60],\n",
       "       [ 61,  62,  63,  64,  65,  66,  67,  68,  69,  70],\n",
       "       [ 71,  72,  73,  74,  75,  76,  77,  78,  79,  80],\n",
       "       [ 81,  82,  83,  84,  85,  86,  87,  88,  89,  90],\n",
       "       [ 91,  92,  93,  94,  95,  96,  97,  98,  99, 100]])"
      ]
     },
     "execution_count": 60,
     "metadata": {},
     "output_type": "execute_result"
    }
   ],
   "source": [
    "d = np.arange(1,101).reshape(10,10)\n",
    "d"
   ]
  },
  {
   "cell_type": "code",
   "execution_count": 63,
   "id": "e4103aa6",
   "metadata": {},
   "outputs": [
    {
     "data": {
      "text/plain": [
       "array([[12, 13, 14, 15, 16, 17, 18, 19],\n",
       "       [22, 23, 24, 25, 26, 27, 28, 29],\n",
       "       [32, 33, 34, 35, 36, 37, 38, 39],\n",
       "       [42, 43, 44, 45, 46, 47, 48, 49],\n",
       "       [52, 53, 54, 55, 56, 57, 58, 59],\n",
       "       [62, 63, 64, 65, 66, 67, 68, 69],\n",
       "       [72, 73, 74, 75, 76, 77, 78, 79],\n",
       "       [82, 83, 84, 85, 86, 87, 88, 89]])"
      ]
     },
     "execution_count": 63,
     "metadata": {},
     "output_type": "execute_result"
    }
   ],
   "source": [
    "d[1:9,1:9]"
   ]
  },
  {
   "cell_type": "code",
   "execution_count": 64,
   "id": "ac471c53",
   "metadata": {},
   "outputs": [
    {
     "data": {
      "text/plain": [
       "array([], shape=(8, 0), dtype=int32)"
      ]
     },
     "execution_count": 64,
     "metadata": {},
     "output_type": "execute_result"
    }
   ],
   "source": [
    "d[1:9,9:1]"
   ]
  },
  {
   "cell_type": "code",
   "execution_count": 65,
   "id": "067e1b05",
   "metadata": {},
   "outputs": [
    {
     "data": {
      "text/plain": [
       "2"
      ]
     },
     "execution_count": 65,
     "metadata": {},
     "output_type": "execute_result"
    }
   ],
   "source": [
    "d.ndim"
   ]
  },
  {
   "cell_type": "code",
   "execution_count": 68,
   "id": "87ba4649",
   "metadata": {},
   "outputs": [
    {
     "data": {
      "text/plain": [
       "array([[[  1,   2,   3,   4,   5],\n",
       "        [  6,   7,   8,   9,  10],\n",
       "        [ 11,  12,  13,  14,  15],\n",
       "        [ 16,  17,  18,  19,  20],\n",
       "        [ 21,  22,  23,  24,  25]],\n",
       "\n",
       "       [[ 26,  27,  28,  29,  30],\n",
       "        [ 31,  32,  33,  34,  35],\n",
       "        [ 36,  37,  38,  39,  40],\n",
       "        [ 41,  42,  43,  44,  45],\n",
       "        [ 46,  47,  48,  49,  50]],\n",
       "\n",
       "       [[ 51,  52,  53,  54,  55],\n",
       "        [ 56,  57,  58,  59,  60],\n",
       "        [ 61,  62,  63,  64,  65],\n",
       "        [ 66,  67,  68,  69,  70],\n",
       "        [ 71,  72,  73,  74,  75]],\n",
       "\n",
       "       [[ 76,  77,  78,  79,  80],\n",
       "        [ 81,  82,  83,  84,  85],\n",
       "        [ 86,  87,  88,  89,  90],\n",
       "        [ 91,  92,  93,  94,  95],\n",
       "        [ 96,  97,  98,  99, 100]]])"
      ]
     },
     "execution_count": 68,
     "metadata": {},
     "output_type": "execute_result"
    }
   ],
   "source": [
    "u = np.arange(1,101).reshape(4,5,5)\n",
    "u"
   ]
  },
  {
   "cell_type": "code",
   "execution_count": 69,
   "id": "bdac49e0",
   "metadata": {},
   "outputs": [
    {
     "data": {
      "text/plain": [
       "3"
      ]
     },
     "execution_count": 69,
     "metadata": {},
     "output_type": "execute_result"
    }
   ],
   "source": [
    "u.ndim"
   ]
  },
  {
   "cell_type": "code",
   "execution_count": 71,
   "id": "9e07b61f",
   "metadata": {},
   "outputs": [
    {
     "data": {
      "text/plain": [
       "(4, 5, 5)"
      ]
     },
     "execution_count": 71,
     "metadata": {},
     "output_type": "execute_result"
    }
   ],
   "source": [
    "u.shape"
   ]
  },
  {
   "cell_type": "code",
   "execution_count": 73,
   "id": "09eeceee",
   "metadata": {},
   "outputs": [
    {
     "data": {
      "text/plain": [
       "array([[  1,   2,   3,   4,   5],\n",
       "       [  6,   7,   8,   9,  10],\n",
       "       [ 11,  12,  13,  14,  15],\n",
       "       [ 16,  17,  18,  19,  20],\n",
       "       [ 21,  22,  23,  24,  25],\n",
       "       [ 26,  27,  28,  29,  30],\n",
       "       [ 31,  32,  33,  34,  35],\n",
       "       [ 36,  37,  38,  39,  40],\n",
       "       [ 41,  42,  43,  44,  45],\n",
       "       [ 46,  47,  48,  49,  50],\n",
       "       [ 51,  52,  53,  54,  55],\n",
       "       [ 56,  57,  58,  59,  60],\n",
       "       [ 61,  62,  63,  64,  65],\n",
       "       [ 66,  67,  68,  69,  70],\n",
       "       [ 71,  72,  73,  74,  75],\n",
       "       [ 76,  77,  78,  79,  80],\n",
       "       [ 81,  82,  83,  84,  85],\n",
       "       [ 86,  87,  88,  89,  90],\n",
       "       [ 91,  92,  93,  94,  95],\n",
       "       [ 96,  97,  98,  99, 100]])"
      ]
     },
     "execution_count": 73,
     "metadata": {},
     "output_type": "execute_result"
    }
   ],
   "source": [
    "u = np.arange(1,101).reshape(20,5)\n",
    "u"
   ]
  },
  {
   "cell_type": "code",
   "execution_count": 1,
   "id": "c85ec686",
   "metadata": {},
   "outputs": [],
   "source": [
    "from random import*"
   ]
  },
  {
   "cell_type": "code",
   "execution_count": 2,
   "id": "1169b800",
   "metadata": {},
   "outputs": [],
   "source": [
    "import numpy as np"
   ]
  },
  {
   "cell_type": "code",
   "execution_count": 43,
   "id": "a5eec507",
   "metadata": {},
   "outputs": [
    {
     "data": {
      "text/plain": [
       "0.6650861543272583"
      ]
     },
     "execution_count": 43,
     "metadata": {},
     "output_type": "execute_result"
    }
   ],
   "source": [
    "np.random.random()"
   ]
  },
  {
   "cell_type": "code",
   "execution_count": 44,
   "id": "9209ab20",
   "metadata": {},
   "outputs": [
    {
     "data": {
      "text/plain": [
       "array([0.82582863, 0.44361352, 0.9541177 , 0.63025831, 0.14499749])"
      ]
     },
     "execution_count": 44,
     "metadata": {},
     "output_type": "execute_result"
    }
   ],
   "source": [
    "np.random.random(5)"
   ]
  },
  {
   "cell_type": "code",
   "execution_count": 45,
   "id": "b98777a1",
   "metadata": {},
   "outputs": [
    {
     "data": {
      "text/plain": [
       "array([[[0.26961052, 0.53839312, 0.65491894, 0.7894778 , 0.0331269 ],\n",
       "        [0.542438  , 0.17353271, 0.77235033, 0.74135398, 0.3071263 ],\n",
       "        [0.15876232, 0.76963486, 0.8288288 , 0.38740755, 0.89035458]],\n",
       "\n",
       "       [[0.50765488, 0.51991171, 0.88044677, 0.29800307, 0.10390002],\n",
       "        [0.34094681, 0.94415961, 0.8826293 , 0.65712136, 0.91416464],\n",
       "        [0.49678249, 0.38990972, 0.92416691, 0.71744142, 0.32636567]],\n",
       "\n",
       "       [[0.52901309, 0.61135981, 0.15570334, 0.3474348 , 0.69433503],\n",
       "        [0.40099291, 0.94137792, 0.21773881, 0.57084695, 0.08378509],\n",
       "        [0.41150166, 0.36305826, 0.79386475, 0.82897163, 0.9637362 ]]])"
      ]
     },
     "execution_count": 45,
     "metadata": {},
     "output_type": "execute_result"
    }
   ],
   "source": [
    "np.random.random((3,3,5))"
   ]
  },
  {
   "cell_type": "code",
   "execution_count": 47,
   "id": "e89a04f8",
   "metadata": {},
   "outputs": [
    {
     "data": {
      "text/plain": [
       "array([[[0.26606049, 0.6535772 , 0.19356163],\n",
       "        [0.11609141, 0.7608494 , 0.42783805],\n",
       "        [0.3790916 , 0.40231396, 0.16892515]],\n",
       "\n",
       "       [[0.54183132, 0.2026139 , 0.74181034],\n",
       "        [0.67343651, 0.64116045, 0.83598625],\n",
       "        [0.93594316, 0.52111198, 0.26130008]]])"
      ]
     },
     "execution_count": 47,
     "metadata": {},
     "output_type": "execute_result"
    }
   ],
   "source": [
    "np.random.random((2,3,3))"
   ]
  },
  {
   "cell_type": "code",
   "execution_count": 48,
   "id": "417acd7c",
   "metadata": {},
   "outputs": [
    {
     "data": {
      "text/plain": [
       "11"
      ]
     },
     "execution_count": 48,
     "metadata": {},
     "output_type": "execute_result"
    }
   ],
   "source": [
    "np.random.randint(1,14)"
   ]
  },
  {
   "cell_type": "code",
   "execution_count": 60,
   "id": "3551fdb6",
   "metadata": {},
   "outputs": [
    {
     "data": {
      "text/plain": [
       "array([[ 5,  9],\n",
       "       [11,  8],\n",
       "       [ 9,  6]])"
      ]
     },
     "execution_count": 60,
     "metadata": {},
     "output_type": "execute_result"
    }
   ],
   "source": [
    "np.random.randint(1,14,(3,2))"
   ]
  },
  {
   "cell_type": "code",
   "execution_count": 62,
   "id": "b0686b3e",
   "metadata": {},
   "outputs": [
    {
     "data": {
      "text/plain": [
       "array([[[11,  2, 11,  4, 10],\n",
       "        [ 6,  2, 10,  8, 10]],\n",
       "\n",
       "       [[ 9,  8,  3,  6, 10],\n",
       "        [ 5,  8, 11,  1,  7]],\n",
       "\n",
       "       [[11,  9,  3,  4,  1],\n",
       "        [13,  5,  4, 12,  3]]])"
      ]
     },
     "execution_count": 62,
     "metadata": {},
     "output_type": "execute_result"
    }
   ],
   "source": [
    "np.random.randint(1,14,(3,2,5))"
   ]
  },
  {
   "cell_type": "code",
   "execution_count": 63,
   "id": "24ceb99d",
   "metadata": {},
   "outputs": [
    {
     "data": {
      "text/plain": [
       "array([[0.80791676, 0.53785926, 0.61321773, 0.44919866],\n",
       "       [0.05160928, 0.25155709, 0.92295812, 0.43183748],\n",
       "       [0.95099167, 0.72752815, 0.60811048, 0.6160415 ]])"
      ]
     },
     "execution_count": 63,
     "metadata": {},
     "output_type": "execute_result"
    }
   ],
   "source": [
    "np.random.rand(3,4)"
   ]
  },
  {
   "cell_type": "code",
   "execution_count": 65,
   "id": "d592e6ae",
   "metadata": {},
   "outputs": [
    {
     "data": {
      "text/plain": [
       "array([15, 16, 17, 18, 19, 20, 21, 22, 23, 24, 25, 26, 27])"
      ]
     },
     "execution_count": 65,
     "metadata": {},
     "output_type": "execute_result"
    }
   ],
   "source": [
    "a = np.arange(15,28)\n",
    "a"
   ]
  },
  {
   "cell_type": "code",
   "execution_count": 66,
   "id": "967bfe9d",
   "metadata": {},
   "outputs": [
    {
     "data": {
      "text/plain": [
       "17"
      ]
     },
     "execution_count": 66,
     "metadata": {},
     "output_type": "execute_result"
    }
   ],
   "source": [
    "np.random.choice(a)"
   ]
  },
  {
   "cell_type": "code",
   "execution_count": 86,
   "id": "a5cdaed1",
   "metadata": {},
   "outputs": [
    {
     "data": {
      "text/plain": [
       "20"
      ]
     },
     "execution_count": 86,
     "metadata": {},
     "output_type": "execute_result"
    }
   ],
   "source": [
    "np.random.permutation(a)\n",
    "np.random.choice(a)"
   ]
  },
  {
   "cell_type": "code",
   "execution_count": 87,
   "id": "411c5baa",
   "metadata": {},
   "outputs": [
    {
     "data": {
      "text/plain": [
       "3075"
      ]
     },
     "execution_count": 87,
     "metadata": {},
     "output_type": "execute_result"
    }
   ],
   "source": [
    "a = np.arange(1111,9999)\n",
    "np.random.permutation(a)\n",
    "np.random.choice(a)"
   ]
  },
  {
   "cell_type": "code",
   "execution_count": 92,
   "id": "930ee5d9",
   "metadata": {},
   "outputs": [
    {
     "data": {
      "text/plain": [
       "0.07487950825082577"
      ]
     },
     "execution_count": 92,
     "metadata": {},
     "output_type": "execute_result"
    }
   ],
   "source": [
    "np.random.normal()"
   ]
  },
  {
   "cell_type": "code",
   "execution_count": 95,
   "id": "04cb0696",
   "metadata": {},
   "outputs": [
    {
     "data": {
      "text/plain": [
       "array([50.05896606, 50.31119683, 32.51084043, 51.28863171, 67.69808281,\n",
       "       56.29252274, 40.20598746, 49.62108734, 61.45351796, 40.20332261,\n",
       "       74.1196622 , 32.21449133, 61.49996719, 52.24638529, 62.58834221,\n",
       "       61.99796037, 59.9554849 , 62.95177291, 39.49695967, 78.84849795,\n",
       "       17.66209054, 50.40775923, 36.38325279, 69.15067349, 49.98767107,\n",
       "       32.95916155, 43.72052733, 67.01823136, 34.39426291, 69.75799053,\n",
       "       39.10206388, 50.46392566, 60.19742008, 39.59984864, 43.43780916,\n",
       "       61.41601574, 41.97392006, 46.54362059, 67.96881635, 42.25623225,\n",
       "       51.13435151, 37.31193433, 73.72459738, 69.85568784, 58.04742841,\n",
       "       61.43645065, 67.23896503, 69.90232993, 22.57200931, 58.99333044,\n",
       "       50.82711861, 64.49032146, 55.05991121, 41.12014893, 52.3428944 ,\n",
       "       47.33128771, 69.41852516, 32.09465515, 50.12199317, 31.51029433,\n",
       "       58.30762525, 34.15838724, 35.41517758, 41.69138218, 44.36882393,\n",
       "       46.98312658, 63.12109446, 46.67339385, 21.55435247, 42.8554663 ,\n",
       "       40.91542943, 36.01222002, 23.38516049, 53.03716188, 67.13151891,\n",
       "       53.68107264, 76.63281822, 42.28838396, 37.42672843, 63.88422397,\n",
       "       54.2000648 , 42.10038219, 31.16099322, 36.58129099, 44.96778669,\n",
       "       60.29699292, 40.59743017, 26.31184627, 65.09777886, 81.08765684,\n",
       "        2.11779049, 25.84052247, 58.26238271, 25.83175368, 48.70891794,\n",
       "       63.71371438, 25.16421221, 64.65902254, 50.24954022, 46.01503109])"
      ]
     },
     "execution_count": 95,
     "metadata": {},
     "output_type": "execute_result"
    }
   ],
   "source": [
    "np.random.normal(50,15,100)"
   ]
  },
  {
   "cell_type": "code",
   "execution_count": 96,
   "id": "e781ca9b",
   "metadata": {},
   "outputs": [
    {
     "data": {
      "text/plain": [
       "array([-0.71756338, -0.72244791, -0.91736853, -0.75074019, -0.80967847,\n",
       "       -0.54598523, -0.68440795, -0.24435987, -0.64344392, -0.01809574,\n",
       "       -0.13054791, -0.22529021, -0.33042111, -0.96548282, -0.4171042 ,\n",
       "       -0.28145301, -0.29093776, -0.30917162, -0.56697943, -0.41806884,\n",
       "       -0.61490899, -0.32946055, -0.45431553, -0.21211566, -0.80817324,\n",
       "       -0.26289689, -0.84694594, -0.14478783, -0.23370431, -0.38600468,\n",
       "       -0.65870689, -0.857238  , -0.57139192, -0.83097086, -0.13321034,\n",
       "       -0.49356753, -0.08211874, -0.08825405, -0.74028011, -0.06922535,\n",
       "       -0.61805639, -0.01200013, -0.7589047 , -0.15662708, -0.66229088,\n",
       "       -0.86978809, -0.48845899, -0.14208898, -0.90269891, -0.52421527,\n",
       "       -0.86905506, -0.63944817, -0.04706186, -0.08939075, -0.06299556,\n",
       "       -0.90413403, -0.15277034, -0.5144773 , -0.44301261, -0.26726439,\n",
       "       -0.11421544, -0.55141985, -0.79556117, -0.53008906, -0.41348891,\n",
       "       -0.2010046 , -0.86467685, -0.82534568, -0.37427864, -0.3027613 ,\n",
       "       -0.35491283, -0.59331623, -0.29530074, -0.56592202, -0.69668014,\n",
       "       -0.13060929, -0.43308087, -0.42452553, -0.07479908, -0.45967343,\n",
       "       -0.60835296, -0.72138579, -0.42877027, -0.37241979, -0.88063783,\n",
       "       -0.10300107, -0.58268437, -0.19622463, -0.33894548, -0.8297929 ,\n",
       "       -0.917717  , -0.37755718, -0.0244663 , -0.07842419, -0.53777643,\n",
       "       -0.36670966, -0.82323884, -0.28739337, -0.55379574, -0.25990542])"
      ]
     },
     "execution_count": 96,
     "metadata": {},
     "output_type": "execute_result"
    }
   ],
   "source": [
    "np.random.uniform(-1,0,100)"
   ]
  },
  {
   "cell_type": "code",
   "execution_count": 98,
   "id": "a81f5562",
   "metadata": {},
   "outputs": [
    {
     "data": {
      "text/plain": [
       "array([38, 20, 22, 31, 12, 27, 27, 32,  5, 21,  8, 21, 12, 36, 40])"
      ]
     },
     "execution_count": 98,
     "metadata": {},
     "output_type": "execute_result"
    }
   ],
   "source": [
    "a = np.random.randint(1,52,15)\n",
    "a"
   ]
  },
  {
   "cell_type": "code",
   "execution_count": 99,
   "id": "dfc74fe5",
   "metadata": {},
   "outputs": [
    {
     "data": {
      "text/plain": [
       "[5, 8, 12, 12, 20, 21, 21, 22, 27, 27, 31, 32, 36, 38, 40]"
      ]
     },
     "execution_count": 99,
     "metadata": {},
     "output_type": "execute_result"
    }
   ],
   "source": [
    "sorted(a)"
   ]
  },
  {
   "cell_type": "code",
   "execution_count": 100,
   "id": "9d064406",
   "metadata": {},
   "outputs": [
    {
     "data": {
      "text/plain": [
       "array([ 5,  8, 12, 12, 20, 21, 21, 22, 27, 27, 31, 32, 36, 38, 40])"
      ]
     },
     "execution_count": 100,
     "metadata": {},
     "output_type": "execute_result"
    }
   ],
   "source": [
    "np.sort(a)"
   ]
  },
  {
   "cell_type": "code",
   "execution_count": 101,
   "id": "86afb2ce",
   "metadata": {},
   "outputs": [],
   "source": [
    "a = np.arange(1,200)"
   ]
  },
  {
   "cell_type": "code",
   "execution_count": 102,
   "id": "6bd9b4fb",
   "metadata": {},
   "outputs": [
    {
     "data": {
      "text/plain": [
       "100.0"
      ]
     },
     "execution_count": 102,
     "metadata": {},
     "output_type": "execute_result"
    }
   ],
   "source": [
    "np.mean(a)"
   ]
  },
  {
   "cell_type": "code",
   "execution_count": 104,
   "id": "d93717dc",
   "metadata": {},
   "outputs": [
    {
     "data": {
      "text/plain": [
       "100.0"
      ]
     },
     "execution_count": 104,
     "metadata": {},
     "output_type": "execute_result"
    }
   ],
   "source": [
    "np.median(a)"
   ]
  },
  {
   "cell_type": "code",
   "execution_count": 105,
   "id": "632e8108",
   "metadata": {},
   "outputs": [
    {
     "data": {
      "text/plain": [
       "57.445626465380286"
      ]
     },
     "execution_count": 105,
     "metadata": {},
     "output_type": "execute_result"
    }
   ],
   "source": [
    "np.std(a)"
   ]
  },
  {
   "cell_type": "code",
   "execution_count": 106,
   "id": "61e5580a",
   "metadata": {},
   "outputs": [
    {
     "data": {
      "text/plain": [
       "3300.0"
      ]
     },
     "execution_count": 106,
     "metadata": {},
     "output_type": "execute_result"
    }
   ],
   "source": [
    "np.var(a)"
   ]
  },
  {
   "cell_type": "code",
   "execution_count": 108,
   "id": "4dfeff40",
   "metadata": {},
   "outputs": [
    {
     "data": {
      "text/plain": [
       "array([[[299, 130, 485, 405, 413],\n",
       "        [ 58, 268, 380, 481,  45],\n",
       "        [192, 499, 453, 284, 342],\n",
       "        [364, 372, 451,  23, 409],\n",
       "        [225, 421, 360, 179, 120]],\n",
       "\n",
       "       [[198, 136, 119, 149, 470],\n",
       "        [ 65, 294, 303, 182, 362],\n",
       "        [130, 111, 153, 249, 228],\n",
       "        [255, 147,  80, 199, 163],\n",
       "        [246,  67, 233, 340, 266]],\n",
       "\n",
       "       [[273,  53, 361, 255,  32],\n",
       "        [ 72, 223, 373, 319, 345],\n",
       "        [205, 189, 387, 174,  22],\n",
       "        [478,  49, 487,  17,  70],\n",
       "        [185, 352, 157, 201, 305]]])"
      ]
     },
     "execution_count": 108,
     "metadata": {},
     "output_type": "execute_result"
    }
   ],
   "source": [
    "a = np.random.randint(1,500,(3,5,5))\n",
    "a"
   ]
  },
  {
   "cell_type": "code",
   "execution_count": 109,
   "id": "0e7f19fe",
   "metadata": {},
   "outputs": [
    {
     "data": {
      "text/plain": [
       "array([[[130, 299, 405, 413, 485],\n",
       "        [ 45,  58, 268, 380, 481],\n",
       "        [192, 284, 342, 453, 499],\n",
       "        [ 23, 364, 372, 409, 451],\n",
       "        [120, 179, 225, 360, 421]],\n",
       "\n",
       "       [[119, 136, 149, 198, 470],\n",
       "        [ 65, 182, 294, 303, 362],\n",
       "        [111, 130, 153, 228, 249],\n",
       "        [ 80, 147, 163, 199, 255],\n",
       "        [ 67, 233, 246, 266, 340]],\n",
       "\n",
       "       [[ 32,  53, 255, 273, 361],\n",
       "        [ 72, 223, 319, 345, 373],\n",
       "        [ 22, 174, 189, 205, 387],\n",
       "        [ 17,  49,  70, 478, 487],\n",
       "        [157, 185, 201, 305, 352]]])"
      ]
     },
     "execution_count": 109,
     "metadata": {},
     "output_type": "execute_result"
    }
   ],
   "source": [
    "np.sort(a)"
   ]
  },
  {
   "cell_type": "code",
   "execution_count": 110,
   "id": "4a702219",
   "metadata": {},
   "outputs": [],
   "source": [
    "l = \"Learning Python\""
   ]
  },
  {
   "cell_type": "code",
   "execution_count": 111,
   "id": "fba81bef",
   "metadata": {},
   "outputs": [
    {
     "data": {
      "text/plain": [
       "array('Learning Python', dtype='<U15')"
      ]
     },
     "execution_count": 111,
     "metadata": {},
     "output_type": "execute_result"
    }
   ],
   "source": [
    "l1 = np.array(l)\n",
    "l1"
   ]
  },
  {
   "cell_type": "code",
   "execution_count": 113,
   "id": "421a435c",
   "metadata": {},
   "outputs": [
    {
     "data": {
      "text/plain": [
       "array('lEARNING pYTHON', dtype='<U15')"
      ]
     },
     "execution_count": 113,
     "metadata": {},
     "output_type": "execute_result"
    }
   ],
   "source": [
    "np.char.swapcase(l1)"
   ]
  },
  {
   "cell_type": "code",
   "execution_count": 114,
   "id": "9959f73c",
   "metadata": {},
   "outputs": [
    {
     "data": {
      "text/plain": [
       "array('lEARNING pYTHON', dtype='<U15')"
      ]
     },
     "execution_count": 114,
     "metadata": {},
     "output_type": "execute_result"
    }
   ],
   "source": [
    "np.char.swapcase(l)"
   ]
  },
  {
   "cell_type": "code",
   "execution_count": 116,
   "id": "342de230",
   "metadata": {},
   "outputs": [
    {
     "data": {
      "text/plain": [
       "['ASD', 'ADF', 'WER', 'GHY']"
      ]
     },
     "execution_count": 116,
     "metadata": {},
     "output_type": "execute_result"
    }
   ],
   "source": [
    "l = [\"asd\",\"adf\",\"wer\",\"ghy\"]\n",
    "l1 = []\n",
    "for i in l:\n",
    "    i.upper()\n",
    "    l1.append(i.upper())\n",
    "l1"
   ]
  },
  {
   "cell_type": "code",
   "execution_count": 117,
   "id": "9f0eada9",
   "metadata": {},
   "outputs": [
    {
     "data": {
      "text/plain": [
       "array(['ASD', 'ADF', 'WER', 'GHY'], dtype='<U3')"
      ]
     },
     "execution_count": 117,
     "metadata": {},
     "output_type": "execute_result"
    }
   ],
   "source": [
    "np.char.upper(l)"
   ]
  },
  {
   "cell_type": "code",
   "execution_count": 120,
   "id": "2c31f2ac",
   "metadata": {},
   "outputs": [
    {
     "name": "stdout",
     "output_type": "stream",
     "text": [
      "Requirement already satisfied: pandas in c:\\users\\hp\\anaconda3\\lib\\site-packages (1.4.2)\n",
      "Requirement already satisfied: python-dateutil>=2.8.1 in c:\\users\\hp\\anaconda3\\lib\\site-packages (from pandas) (2.8.2)\n",
      "Requirement already satisfied: numpy>=1.18.5 in c:\\users\\hp\\anaconda3\\lib\\site-packages (from pandas) (1.21.5)\n",
      "Requirement already satisfied: pytz>=2020.1 in c:\\users\\hp\\anaconda3\\lib\\site-packages (from pandas) (2021.3)\n",
      "Requirement already satisfied: six>=1.5 in c:\\users\\hp\\anaconda3\\lib\\site-packages (from python-dateutil>=2.8.1->pandas) (1.16.0)\n",
      "Note: you may need to restart the kernel to use updated packages.\n"
     ]
    }
   ],
   "source": [
    "pip install pandas"
   ]
  },
  {
   "cell_type": "code",
   "execution_count": null,
   "id": "e83a4b49",
   "metadata": {},
   "outputs": [],
   "source": []
  }
 ],
 "metadata": {
  "kernelspec": {
   "display_name": "Python 3 (ipykernel)",
   "language": "python",
   "name": "python3"
  },
  "language_info": {
   "codemirror_mode": {
    "name": "ipython",
    "version": 3
   },
   "file_extension": ".py",
   "mimetype": "text/x-python",
   "name": "python",
   "nbconvert_exporter": "python",
   "pygments_lexer": "ipython3",
   "version": "3.9.12"
  }
 },
 "nbformat": 4,
 "nbformat_minor": 5
}
